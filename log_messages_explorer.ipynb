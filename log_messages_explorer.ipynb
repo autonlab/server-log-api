{
 "cells": [
  {
   "cell_type": "code",
   "execution_count": null,
   "metadata": {},
   "outputs": [],
   "source": [
    "from auserverdata.preparation.log_messages import *\n",
    "import pandas as pd\n",
    "import datetime as dt\n",
    "# import regex as re"
   ]
  },
  {
   "cell_type": "code",
   "execution_count": null,
   "metadata": {},
   "outputs": [],
   "source": [
    "# Use this to prepare the data, only needs to be done once\n",
    "# de.determineAvailableData()\n",
    "# de.parse_all(pd.read_csv('available_data.csv', parse_dates=['date']),\n",
    "#           excluded_types= set(['daemon']))"
   ]
  },
  {
   "cell_type": "code",
   "execution_count": null,
   "metadata": {},
   "outputs": [],
   "source": [
    "# Usage example\n",
    "csv_file = 'all_log_messages_extracted.csv'\n",
    "desired_host = 'gpu1'\n",
    "filtered_df = filter_log_messages_by_host(csv_file, desired_host)"
   ]
  },
  {
   "cell_type": "code",
   "execution_count": null,
   "metadata": {},
   "outputs": [],
   "source": [
    "start_time = dt.datetime.strptime('2023-01-01 00:00:00', '%Y-%m-%d %H:%M:%S')\n",
    "end_time = dt.datetime.strptime('2023-03-1 23:59:59', '%Y-%m-%d %H:%M:%S')\n",
    "filtered_df = filter_log_messages_by_timeframe(filtered_df, start_time, end_time)\n",
    "\n",
    "# Print the filtered dataframe\n",
    "filtered_df"
   ]
  }
 ],
 "metadata": {
  "kernelspec": {
   "display_name": "ARMOR",
   "language": "python",
   "name": "python3"
  },
  "language_info": {
   "codemirror_mode": {
    "name": "ipython",
    "version": 3
   },
   "file_extension": ".py",
   "mimetype": "text/x-python",
   "name": "python",
   "nbconvert_exporter": "python",
   "pygments_lexer": "ipython3",
   "version": "3.11.4"
  },
  "orig_nbformat": 4
 },
 "nbformat": 4,
 "nbformat_minor": 2
}
