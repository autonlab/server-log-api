{
 "cells": [
  {
   "cell_type": "code",
   "execution_count": null,
   "metadata": {},
   "outputs": [],
   "source": [
    "import os\n",
    "import sys\n",
    "import rrdtool\n",
    "import pickle\n",
    "import datetime as dt\n",
    "import pandas as pd\n",
    "import numpy as np\n",
    "import matplotlib.pyplot as plt\n",
    "from auserverdata.preparation.rrd import (\n",
    "    parse_rrds_for_all_collectd_servers,\n",
    "    parse_rrds_for_all_snmp_servers,\n",
    "    get_time_series_data_for_collectd_servers,\n",
    "    get_time_series_data_for_snmp_servers,\n",
    "    get_feature_names_for_timestamp_set,\n",
    "    get_feature_names_with_substring_present,\n",
    "    map_feature_names_to_timestamps,\n",
    "    map_timestamp_sets_to_feature_names,\n",
    "    print_timestamp_set_to_feature_names_map_info\n",
    ")\n",
    "from auserverdata.local import get_local_config\n",
    "from auserverdata.analysis import (\n",
    "    plot_time_series_data_on_single_plot,\n",
    "    plot_time_series_data_in_vertical_stack\n",
    ")\n",
    "from joblib import Parallel,delayed\n",
    "import pyarrow.parquet as pq\n",
    "import pyarrow.compute as pc"
   ]
  },
  {
   "cell_type": "code",
   "execution_count": null,
   "metadata": {},
   "outputs": [],
   "source": [
    "local_config = get_local_config()"
   ]
  },
  {
   "cell_type": "code",
   "execution_count": null,
   "metadata": {},
   "outputs": [],
   "source": [
    "# results = parse_rrds_for_all_snmp_servers(snmp_path='/home/bshook/Projects/server-log-api/rrd/original/snmp',\n",
    "#                                           dst=f'/home/bshook/Projects/server-log-api/rrd/parsed/snmp_parsed_data.parquet')"
   ]
  },
  {
   "cell_type": "code",
   "execution_count": null,
   "metadata": {},
   "outputs": [],
   "source": [
    "# results = parse_rrds_for_all_collectd_servers(collectd_path='/home/bshook/Projects/server-log-api/rrd/original/collectd',\n",
    "#                                               dst=f'/home/bshook/Projects/server-log-api/rrd/parsed/collectd/parsed_data.parquet',\n",
    "#                                               n_jobs=-1)"
   ]
  },
  {
   "cell_type": "code",
   "execution_count": null,
   "metadata": {},
   "outputs": [],
   "source": [
    "collectd_ts_df = get_time_series_data_for_collectd_servers(rrd_dir=local_config.rrd_dir, collectd_servers=['gpu18'])"
   ]
  },
  {
   "cell_type": "code",
   "execution_count": null,
   "metadata": {},
   "outputs": [],
   "source": [
    "collectd_ts_df"
   ]
  },
  {
   "cell_type": "code",
   "execution_count": null,
   "metadata": {},
   "outputs": [],
   "source": [
    "collectd_ts_df[('gpu18', 'sensors-coretemp-isa-0001', 'temperature-temp10', 'value')]"
   ]
  },
  {
   "cell_type": "code",
   "execution_count": null,
   "metadata": {},
   "outputs": [],
   "source": [
    "plt.plot(collectd_ts_df[('gpu18', 'sensors-coretemp-isa-0001', 'temperature-temp10', 'value')].dropna())\n",
    "# plt.yscale('log')"
   ]
  },
  {
   "cell_type": "code",
   "execution_count": null,
   "metadata": {},
   "outputs": [],
   "source": [
    "timestamps_per_feature = map_feature_names_to_timestamps(collectd_ts_df)\n",
    "features_per_timestamp_set = map_timestamp_sets_to_feature_names(timestamps_per_feature)"
   ]
  },
  {
   "cell_type": "code",
   "execution_count": null,
   "metadata": {},
   "outputs": [],
   "source": [
    "print_timestamp_set_to_feature_names_map_info(features_per_timestamp_set)"
   ]
  },
  {
   "cell_type": "code",
   "execution_count": null,
   "metadata": {},
   "outputs": [],
   "source": [
    "feature_names = get_feature_names_for_timestamp_set(\n",
    "                    features_per_timestamp_set,\n",
    "                    timestamp_set = 0\n",
    "                    )"
   ]
  },
  {
   "cell_type": "code",
   "execution_count": null,
   "metadata": {},
   "outputs": [],
   "source": [
    "len(feature_names)"
   ]
  },
  {
   "cell_type": "code",
   "execution_count": null,
   "metadata": {},
   "outputs": [],
   "source": [
    "feature_names"
   ]
  },
  {
   "cell_type": "code",
   "execution_count": null,
   "metadata": {},
   "outputs": [],
   "source": [
    "cpu_user_feature_names = get_feature_names_with_substring_present(\n",
    "    feature_names,\n",
    "    substring = 'memory-used'\n",
    "    )"
   ]
  },
  {
   "cell_type": "code",
   "execution_count": null,
   "metadata": {},
   "outputs": [],
   "source": [
    "cpu_user_feature_names"
   ]
  },
  {
   "cell_type": "code",
   "execution_count": null,
   "metadata": {},
   "outputs": [],
   "source": [
    "plot_time_series_data_in_vertical_stack(\n",
    "    collectd_ts_df[cpu_user_feature_names]\n",
    "    )"
   ]
  },
  {
   "cell_type": "code",
   "execution_count": null,
   "metadata": {},
   "outputs": [],
   "source": []
  }
 ],
 "metadata": {
  "kernelspec": {
   "display_name": "ARMOR",
   "language": "python",
   "name": "python3"
  },
  "language_info": {
   "codemirror_mode": {
    "name": "ipython",
    "version": 3
   },
   "file_extension": ".py",
   "mimetype": "text/x-python",
   "name": "python",
   "nbconvert_exporter": "python",
   "pygments_lexer": "ipython3",
   "version": "3.11.4"
  },
  "orig_nbformat": 4
 },
 "nbformat": 4,
 "nbformat_minor": 2
}
